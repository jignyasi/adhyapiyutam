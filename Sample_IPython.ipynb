{
 "cells": [
  {
   "cell_type": "code",
   "execution_count": 4,
   "metadata": {},
   "outputs": [],
   "source": [
    "import pandas as pd\n",
    "import numpy as np"
   ]
  },
  {
   "cell_type": "code",
   "execution_count": null,
   "metadata": {
    "collapsed": true
   },
   "outputs": [],
   "source": [
    "# Object Creation\n",
    "#         DataFrame\n",
    "#         Series\n",
    "#     Meta Info\n",
    "#         shape       \n",
    "#         dtypes\n",
    "#     Input/Output\n",
    "#         Read & Write\n",
    "#     Viewing Data\n",
    "#         head\n",
    "#         columns\n",
    "#         index\n",
    "#     Getting\n",
    "#         by Label\n",
    "#         by Position\n",
    "#         by index\n",
    "#         by seq"
   ]
  },
  {
   "cell_type": "code",
   "execution_count": 5,
   "metadata": {},
   "outputs": [
    {
     "name": "stdout",
     "output_type": "stream",
     "text": [
      "   Age  Experience  Income  ZIP.Code  Family  CCAvg  Education  Mortgage  \\\n",
      "0   25           1      49     91107       4    1.6          1         0   \n",
      "1   45          19      34     90089       3    1.5          1         0   \n",
      "2   39          15      11     94720       1    1.0          1         0   \n",
      "3   35           9     100     94112       1    2.7          2         0   \n",
      "4   35           8      45     91330       4    1.0          2         0   \n",
      "\n",
      "   class  Securities.Account  CD.Account  Online  CreditCard  \n",
      "0      0                   1           0       0           0  \n",
      "1      0                   1           0       0           0  \n",
      "2      0                   0           0       0           0  \n",
      "3      0                   0           0       0           0  \n",
      "4      0                   0           0       0           1  \n"
     ]
    }
   ],
   "source": [
    "WD = '/Users/anand/Documents/consulting/adhyapiyutam/'\n",
    "df = pd.read_csv(WD+'UniversalBank.csv')#.head()\n",
    "print df.head()"
   ]
  },
  {
   "cell_type": "code",
   "execution_count": 7,
   "metadata": {},
   "outputs": [
    {
     "name": "stdout",
     "output_type": "stream",
     "text": [
      "(5000, 13)\n",
      "Age                     int64\n",
      "Experience              int64\n",
      "Income                  int64\n",
      "ZIP.Code                int64\n",
      "Family                  int64\n",
      "CCAvg                 float64\n",
      "Education               int64\n",
      "Mortgage                int64\n",
      "class                   int64\n",
      "Securities.Account      int64\n",
      "CD.Account              int64\n",
      "Online                  int64\n",
      "CreditCard              int64\n",
      "dtype: object\n"
     ]
    }
   ],
   "source": [
    "print df.shape\n",
    "print df.dtypes"
   ]
  },
  {
   "cell_type": "code",
   "execution_count": 11,
   "metadata": {},
   "outputs": [
    {
     "data": {
      "text/plain": [
       "0    25\n",
       "1    45\n",
       "2    39\n",
       "3    35\n",
       "4    35\n",
       "Name: Age, dtype: int64"
      ]
     },
     "execution_count": 11,
     "metadata": {},
     "output_type": "execute_result"
    }
   ],
   "source": [
    "#Columns\n",
    "df[['Age','Experience']].head()\n",
    "df['Age'].head()\n",
    "df.Age.head()\n",
    "#Rows\n"
   ]
  },
  {
   "cell_type": "code",
   "execution_count": null,
   "metadata": {
    "collapsed": true
   },
   "outputs": [],
   "source": []
  },
  {
   "cell_type": "code",
   "execution_count": null,
   "metadata": {
    "collapsed": true
   },
   "outputs": [],
   "source": []
  },
  {
   "cell_type": "code",
   "execution_count": null,
   "metadata": {
    "collapsed": true
   },
   "outputs": [],
   "source": []
  },
  {
   "cell_type": "code",
   "execution_count": null,
   "metadata": {
    "collapsed": true
   },
   "outputs": [],
   "source": []
  },
  {
   "cell_type": "code",
   "execution_count": null,
   "metadata": {
    "collapsed": true
   },
   "outputs": [],
   "source": []
  }
 ],
 "metadata": {
  "kernelspec": {
   "display_name": "Python 2",
   "language": "python",
   "name": "python2"
  },
  "language_info": {
   "codemirror_mode": {
    "name": "ipython",
    "version": 2
   },
   "file_extension": ".py",
   "mimetype": "text/x-python",
   "name": "python",
   "nbconvert_exporter": "python",
   "pygments_lexer": "ipython2",
   "version": "2.7.13"
  }
 },
 "nbformat": 4,
 "nbformat_minor": 2
}
